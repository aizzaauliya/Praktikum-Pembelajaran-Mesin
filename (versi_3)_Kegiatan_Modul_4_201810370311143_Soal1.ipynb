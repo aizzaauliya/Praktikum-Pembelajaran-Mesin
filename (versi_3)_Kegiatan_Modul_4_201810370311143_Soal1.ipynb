{
  "nbformat": 4,
  "nbformat_minor": 0,
  "metadata": {
    "colab": {
      "name": "(versi 3) Kegiatan Modul 4_201810370311141_Soal1.ipynb",
      "provenance": [],
      "collapsed_sections": [
        "-zzfYOy8U4TX"
      ],
      "include_colab_link": true
    },
    "kernelspec": {
      "name": "python3",
      "display_name": "Python 3"
    },
    "language_info": {
      "name": "python"
    },
    "accelerator": "GPU"
  },
  "cells": [
    {
      "cell_type": "markdown",
      "metadata": {
        "id": "view-in-github",
        "colab_type": "text"
      },
      "source": [
        "<a href=\"https://colab.research.google.com/github/aizzaauliya/Praktikum-Pembelajaran-Mesin/blob/main/(versi_3)_Kegiatan_Modul_4_201810370311143_Soal1.ipynb\" target=\"_parent\"><img src=\"https://colab.research.google.com/assets/colab-badge.svg\" alt=\"Open In Colab\"/></a>"
      ]
    },
    {
      "cell_type": "markdown",
      "metadata": {
        "id": "wQBa4hXoxDUd"
      },
      "source": [
        "# **Soal Praktikum Overfitting Handling #2**"
      ]
    },
    {
      "cell_type": "markdown",
      "metadata": {
        "id": "06V87X5rVRM2"
      },
      "source": [
        "## Kegiatan 1 **(Individu)** \n",
        "70 poin"
      ]
    },
    {
      "cell_type": "markdown",
      "metadata": {
        "id": "u6kTqqtESNnc"
      },
      "source": [
        "**Peraturan :**\n",
        "* Tidak boleh ada error dalam kode program\n",
        "* Dalam modul ini tidak diperbolehkan menggunakan teknik transfer learning dari pretrain model baik yang di bangun sendiri atau anda dapatkan dari sumber lain (tensorflow, keras, dan sebagainya)\n",
        "* Perhatikan langkah demi langkah yang diperintahkan dalam kegiatan ini"
      ]
    },
    {
      "cell_type": "markdown",
      "metadata": {
        "id": "zQtmu9tIdbf4"
      },
      "source": [
        "### **SOAL 1 :** \n",
        "---\n",
        "Dalam mendefinisikan model Machine Learing ada banyak cara untuk mendapatkan model dengan performa terbaik salah satunya adalah hyperparameter tuning. Contoh hyperparameter tuning telah diberikan dalam materi di modul ini, dalam kegiatan ini telah diberikan sedikit contoh lain untuk mendefinisikan model hyperparameter tuning dengan hparam. **Tugas anda dalam kegiatan modul kali ini adalah membuat model CNN dengan hyperparameter tuning dengan ketentuan wajib sebagai berikut :**\n",
        "* Menerapkan materi dari modul-modul sebelumnya (modul 2 dan 3)\n",
        "* **Menggunakan image disease dataset (bebas dari sumber mana saja)**\n",
        "* Menggunakan dataset dengan jumlah minimal 5000 data\n",
        "* Lakukan eksperimen model untuk mencari model CNN dengan performa terbaik untuk mengklasifikasikan dataset yang anda gunakan.\n",
        "* Definisikan minimal 2 model CNN dengan komposisi parameter yang berbeda-beda.\n",
        "* Masing-masing model memiliki **minimal** 50 epoch.\n",
        "* Dalam mendefinisikan model, WAJIB melakukan tuning minimal pada 3 parameter model yang dirubah misalnya merubah jumlah neuron, nilai dropout, nilai lerning rate, jenis optimizer, jenis activation function dsb.\n",
        "* Visualisasikan hasil evaluasi performa model. Anda dapat menggunakan plot pada umumnya seperti grafik loss dan accuracy dengan matplotib atau visualisasi interaktif menggunakan tensorboard seperti pada contoh dibawah.\n",
        "\n"
      ]
    },
    {
      "cell_type": "code",
      "metadata": {
        "id": "DG4wHBH7K71N"
      },
      "source": [
        "# Tulis Program Anda Disini!\n",
        "\n",
        "from sklearn.model_selection import train_test_split\n",
        "from sklearn.preprocessing import LabelBinarizer\n",
        "from sklearn.metrics import classification_report\n",
        "from tensorflow.keras import Model\n",
        "from tensorflow.keras.models import Sequential\n",
        "from tensorflow.keras.layers import InputLayer, Flatten, Dense, Dropout\n",
        "from tensorflow.keras.optimizers import SGD\n",
        "from tensorflow.keras.optimizers import Adam\n",
        "from tensorflow.keras.preprocessing.image import ImageDataGenerator\n",
        "import matplotlib.image as mpimg\n",
        "import numpy as np\n",
        "import cv2\n",
        "import glob\n",
        "import matplotlib.pyplot as plt"
      ],
      "execution_count": 1,
      "outputs": []
    },
    {
      "cell_type": "code",
      "metadata": {
        "id": "tB30fUnwFsu2",
        "colab": {
          "base_uri": "https://localhost:8080/"
        },
        "outputId": "72069329-dc22-48f7-c05b-743c39af170e"
      },
      "source": [
        "from google.colab import drive\n",
        "drive.mount('/content/drive')"
      ],
      "execution_count": 2,
      "outputs": [
        {
          "output_type": "stream",
          "name": "stdout",
          "text": [
            "Mounted at /content/drive\n"
          ]
        }
      ]
    },
    {
      "cell_type": "code",
      "metadata": {
        "id": "84mcXvx0FziL"
      },
      "source": [
        "# Definisikan path kaggle json\n",
        "# Sesuaikan dengan path anda\n",
        "import os\n",
        "os.environ['KAGGLE_CONFIG_DIR'] = \"/content/drive/MyDrive/kaggle\""
      ],
      "execution_count": 3,
      "outputs": []
    },
    {
      "cell_type": "code",
      "metadata": {
        "id": "T02cQvTcFzfv",
        "colab": {
          "base_uri": "https://localhost:8080/"
        },
        "outputId": "68afd410-9d8e-42c8-ae93-6de32981a1cf"
      },
      "source": [
        "# Ubah lokasi direktori kerja\n",
        "# Sesuaikan dengan path anda\n",
        "# masuk ke directory penyimpanan dataset anda\n",
        "%cd /content/drive/MyDrive/kaggle"
      ],
      "execution_count": 4,
      "outputs": [
        {
          "output_type": "stream",
          "name": "stdout",
          "text": [
            "/content/drive/MyDrive/kaggle\n"
          ]
        }
      ]
    },
    {
      "cell_type": "code",
      "metadata": {
        "id": "1KQnxm1vFzdL"
      },
      "source": [
        "# jika anda ingin menggunakan kaggle API untuk mengunduh dataset gunakan\n",
        "# kode berikut untuk membantu anda membuat config kaggle.json\n",
        "# pastikan anda mendaftar akun kaggle terlebih dahulu\n",
        "# kemudian menuju halaman my account dan buat token API anda\n",
        "\n",
        "api_token = {\"username\":\"laliesyayamaya\",\"key\":\"dd9a58c1fc6c10875fba6f659f3d21af\"}\n",
        "import json\n",
        "import zipfile\n",
        "import os\n",
        "with open('/content/drive/MyDrive/kaggle/kaggle.json', 'w') as file:\n",
        "    json.dump(api_token, file)\n",
        "!chmod 600 /content/drive/MyDrive/kaggle/kaggle.json"
      ],
      "execution_count": 5,
      "outputs": []
    },
    {
      "cell_type": "code",
      "metadata": {
        "colab": {
          "base_uri": "https://localhost:8080/"
        },
        "id": "nts8-siQvU8Q",
        "outputId": "98230bbe-32c0-4a0e-e581-b3e83c814ce1"
      },
      "source": [
        "!ls"
      ],
      "execution_count": 6,
      "outputs": [
        {
          "output_type": "stream",
          "name": "stdout",
          "text": [
            "cell_images.zip  kaggle.json  Malaria2\n"
          ]
        }
      ]
    },
    {
      "cell_type": "code",
      "metadata": {
        "id": "NpYY2mz8FzOE"
      },
      "source": [
        "# Ekstrak file dataset dan hapus file zip dataset agar tidak memakan banyak tempat.\n",
        "import os\n",
        "import zipfile\n",
        "\n",
        "local_zip = 'cell_images.zip'\n",
        "zip_ref = zipfile.ZipFile(local_zip, 'r')\n",
        "zip_ref.extractall('/content') #mengeksrak file zip ke direktory yang sudah ditentukan\n",
        "zip_ref.close()"
      ],
      "execution_count": 7,
      "outputs": []
    },
    {
      "cell_type": "code",
      "metadata": {
        "id": "JWRJdwWiIJwW",
        "colab": {
          "base_uri": "https://localhost:8080/"
        },
        "outputId": "29a05874-2c53-497d-d88a-e441b05c4652"
      },
      "source": [
        "!pip install split-folders\n",
        "\n",
        "import splitfolders"
      ],
      "execution_count": 8,
      "outputs": [
        {
          "output_type": "stream",
          "name": "stdout",
          "text": [
            "Collecting split-folders\n",
            "  Downloading split_folders-0.4.3-py3-none-any.whl (7.4 kB)\n",
            "Installing collected packages: split-folders\n",
            "Successfully installed split-folders-0.4.3\n"
          ]
        }
      ]
    },
    {
      "cell_type": "code",
      "metadata": {
        "id": "O2zdTJgeIWR-"
      },
      "source": [
        "base_dir = '/content/cell_images'"
      ],
      "execution_count": 9,
      "outputs": []
    },
    {
      "cell_type": "code",
      "metadata": {
        "id": "jyCMHS0QIM-A",
        "colab": {
          "base_uri": "https://localhost:8080/"
        },
        "outputId": "ebf63f29-99e6-4df6-86ad-45bf26eac3f6"
      },
      "source": [
        "splitfolders.ratio(base_dir, output='Malaria', seed=1337, ratio=(.8, .19, .01),group_prefix=None)"
      ],
      "execution_count": 10,
      "outputs": [
        {
          "output_type": "stream",
          "name": "stderr",
          "text": [
            "Copying files: 27560 files [05:03, 90.71 files/s] \n"
          ]
        }
      ]
    },
    {
      "cell_type": "code",
      "metadata": {
        "id": "7bLh5e2ah8bH"
      },
      "source": [
        "from tensorflow.keras.preprocessing.image import ImageDataGenerator\n",
        "\n",
        "datagen = ImageDataGenerator(rescale=1./255)"
      ],
      "execution_count": 11,
      "outputs": []
    },
    {
      "cell_type": "code",
      "metadata": {
        "id": "EQcswwjrnPfY",
        "colab": {
          "base_uri": "https://localhost:8080/"
        },
        "outputId": "2e0a44cf-a9a7-4790-a392-2e7fbd44fb2b"
      },
      "source": [
        "input_shape = (100, 100)\n",
        "\n",
        "train = '/content/drive/MyDrive/kaggle/Malaria/train'\n",
        "train_generator = datagen.flow_from_directory(train,\n",
        "                                              target_size=input_shape,\n",
        "                                              class_mode='binary',\n",
        "                                              batch_size=32,\n",
        "                                              color_mode='rgb',\n",
        "                                              shuffle= False)\n",
        "validation = '/content/drive/MyDrive/kaggle/Malaria/val'\n",
        "validation_generator = datagen.flow_from_directory(validation,\n",
        "                                              target_size=input_shape,\n",
        "                                              class_mode='binary',\n",
        "                                              batch_size=32,\n",
        "                                              color_mode='rgb',\n",
        "                                              shuffle= False)\n",
        "\n",
        "test = '/content/drive/MyDrive/kaggle/Malaria/test'\n",
        "test_generator = datagen.flow_from_directory(test,\n",
        "                                              target_size=input_shape,\n",
        "                                              batch_size=32,\n",
        "                                              color_mode='rgb',\n",
        "                                              shuffle= False)"
      ],
      "execution_count": 12,
      "outputs": [
        {
          "output_type": "stream",
          "name": "stdout",
          "text": [
            "Found 22046 images belonging to 3 classes.\n",
            "Found 5236 images belonging to 3 classes.\n",
            "Found 276 images belonging to 3 classes.\n"
          ]
        }
      ]
    },
    {
      "cell_type": "code",
      "metadata": {
        "id": "wIjUIacmnh_b"
      },
      "source": [
        "from tensorflow import keras\n",
        "from keras.models import Sequential\n",
        "from keras.layers import Conv2D, MaxPooling2D, MaxPool2D, Flatten, Dense, Dropout, BatchNormalization, InputLayer, AveragePooling2D\n",
        "from tensorflow.keras.optimizers import Adam"
      ],
      "execution_count": 13,
      "outputs": []
    },
    {
      "cell_type": "code",
      "metadata": {
        "id": "8VSzPib-nmy_"
      },
      "source": [
        "rgb = (3, )\n",
        "shape = input_shape+rgb\n",
        "dropout = 0.05\n",
        "lr = 0.001\n",
        "adam = Adam(learning_rate=lr)\n",
        "los = 'binary_crossentropy'\n",
        "max_epoch = 50"
      ],
      "execution_count": 14,
      "outputs": []
    },
    {
      "cell_type": "code",
      "metadata": {
        "id": "WGN82BrVnpay",
        "colab": {
          "base_uri": "https://localhost:8080/"
        },
        "outputId": "520dd5c5-3578-49f8-dbff-ea4e005ddbc7"
      },
      "source": [
        "model1 = Sequential()\n",
        "\n",
        "model1.add(InputLayer(input_shape=shape))\n",
        "model1.add(Conv2D(filters=64, kernel_size=3, strides=1, padding='same', activation='relu'))\n",
        "model1.add(BatchNormalization())\n",
        "model1.add(MaxPool2D(pool_size=2, padding='same'))\n",
        "model1.add(Conv2D(filters=128, kernel_size=3, strides=1, padding='same', activation='relu'))\n",
        "model1.add(BatchNormalization())\n",
        "model1.add(MaxPool2D(pool_size=2, padding='same'))\n",
        "model1.add(Conv2D(filters=256, kernel_size=3, strides=1, padding='same', activation='relu'))\n",
        "model1.add(BatchNormalization())\n",
        "model1.add(MaxPool2D(pool_size=2, padding='same'))\n",
        "model1.add(Flatten())\n",
        "\n",
        "# Fully Connected Layer\n",
        "model1.add(Dense(256, activation='relu'))\n",
        "model1.add(Dense(512, activation='relu'))\n",
        "model1.add(Dropout(dropout))\n",
        "model1.add(Dense(1, activation='softmax'))\n",
        "\n",
        "# Print model summary\n",
        "model1.summary()"
      ],
      "execution_count": 15,
      "outputs": [
        {
          "output_type": "stream",
          "name": "stdout",
          "text": [
            "Model: \"sequential\"\n",
            "_________________________________________________________________\n",
            " Layer (type)                Output Shape              Param #   \n",
            "=================================================================\n",
            " conv2d (Conv2D)             (None, 100, 100, 64)      1792      \n",
            "                                                                 \n",
            " batch_normalization (BatchN  (None, 100, 100, 64)     256       \n",
            " ormalization)                                                   \n",
            "                                                                 \n",
            " max_pooling2d (MaxPooling2D  (None, 50, 50, 64)       0         \n",
            " )                                                               \n",
            "                                                                 \n",
            " conv2d_1 (Conv2D)           (None, 50, 50, 128)       73856     \n",
            "                                                                 \n",
            " batch_normalization_1 (Batc  (None, 50, 50, 128)      512       \n",
            " hNormalization)                                                 \n",
            "                                                                 \n",
            " max_pooling2d_1 (MaxPooling  (None, 25, 25, 128)      0         \n",
            " 2D)                                                             \n",
            "                                                                 \n",
            " conv2d_2 (Conv2D)           (None, 25, 25, 256)       295168    \n",
            "                                                                 \n",
            " batch_normalization_2 (Batc  (None, 25, 25, 256)      1024      \n",
            " hNormalization)                                                 \n",
            "                                                                 \n",
            " max_pooling2d_2 (MaxPooling  (None, 13, 13, 256)      0         \n",
            " 2D)                                                             \n",
            "                                                                 \n",
            " flatten (Flatten)           (None, 43264)             0         \n",
            "                                                                 \n",
            " dense (Dense)               (None, 256)               11075840  \n",
            "                                                                 \n",
            " dense_1 (Dense)             (None, 512)               131584    \n",
            "                                                                 \n",
            " dropout (Dropout)           (None, 512)               0         \n",
            "                                                                 \n",
            " dense_2 (Dense)             (None, 1)                 513       \n",
            "                                                                 \n",
            "=================================================================\n",
            "Total params: 11,580,545\n",
            "Trainable params: 11,579,649\n",
            "Non-trainable params: 896\n",
            "_________________________________________________________________\n"
          ]
        }
      ]
    },
    {
      "cell_type": "code",
      "metadata": {
        "id": "6_HQWrWxntml"
      },
      "source": [
        "model1.compile(optimizer=adam, loss=los, metrics=['acc'])"
      ],
      "execution_count": 16,
      "outputs": []
    },
    {
      "cell_type": "code",
      "metadata": {
        "id": "PzJUfSLOnzfE",
        "colab": {
          "base_uri": "https://localhost:8080/"
        },
        "outputId": "cff051f9-b509-4ff8-f890-4d83d67e3ca1"
      },
      "source": [
        "H1 = model1.fit(train_generator, \n",
        "                epochs= max_epoch, \n",
        "                validation_data=validation_generator)"
      ],
      "execution_count": 17,
      "outputs": [
        {
          "output_type": "stream",
          "name": "stdout",
          "text": [
            "Epoch 1/50\n",
            "689/689 [==============================] - 111s 147ms/step - loss: 1.8246 - acc: 0.5000 - val_loss: 0.6960 - val_acc: 0.5000\n",
            "Epoch 2/50\n",
            "689/689 [==============================] - 90s 130ms/step - loss: 0.6943 - acc: 0.5000 - val_loss: 0.6915 - val_acc: 0.5000\n",
            "Epoch 3/50\n",
            "689/689 [==============================] - 89s 129ms/step - loss: 0.6949 - acc: 0.5000 - val_loss: 0.6931 - val_acc: 0.5000\n",
            "Epoch 4/50\n",
            "689/689 [==============================] - 89s 129ms/step - loss: 0.6995 - acc: 0.5000 - val_loss: 0.7195 - val_acc: 0.5000\n",
            "Epoch 5/50\n",
            "689/689 [==============================] - 93s 134ms/step - loss: 0.6957 - acc: 0.5000 - val_loss: 0.6933 - val_acc: 0.5000\n",
            "Epoch 6/50\n",
            "689/689 [==============================] - 91s 132ms/step - loss: 0.6946 - acc: 0.5000 - val_loss: 0.7042 - val_acc: 0.5000\n",
            "Epoch 7/50\n",
            "689/689 [==============================] - 93s 135ms/step - loss: 0.7185 - acc: 0.5000 - val_loss: 0.6994 - val_acc: 0.5000\n",
            "Epoch 8/50\n",
            "689/689 [==============================] - 93s 135ms/step - loss: 0.6965 - acc: 0.5000 - val_loss: 0.7015 - val_acc: 0.5000\n",
            "Epoch 9/50\n",
            "689/689 [==============================] - 96s 139ms/step - loss: 0.6959 - acc: 0.5000 - val_loss: 0.6932 - val_acc: 0.5000\n",
            "Epoch 10/50\n",
            "689/689 [==============================] - 90s 130ms/step - loss: 0.6937 - acc: 0.5000 - val_loss: 0.6932 - val_acc: 0.5000\n",
            "Epoch 11/50\n",
            "689/689 [==============================] - 89s 129ms/step - loss: 0.6936 - acc: 0.5000 - val_loss: 0.6932 - val_acc: 0.5000\n",
            "Epoch 12/50\n",
            "689/689 [==============================] - 90s 130ms/step - loss: 0.6935 - acc: 0.5000 - val_loss: 0.6932 - val_acc: 0.5000\n",
            "Epoch 13/50\n",
            "689/689 [==============================] - 94s 136ms/step - loss: 0.6935 - acc: 0.5000 - val_loss: 0.6931 - val_acc: 0.5000\n",
            "Epoch 14/50\n",
            "689/689 [==============================] - 92s 133ms/step - loss: 0.6935 - acc: 0.5000 - val_loss: 0.6932 - val_acc: 0.5000\n",
            "Epoch 15/50\n",
            "689/689 [==============================] - 90s 131ms/step - loss: 0.6935 - acc: 0.5000 - val_loss: 0.6931 - val_acc: 0.5000\n",
            "Epoch 16/50\n",
            "689/689 [==============================] - 93s 135ms/step - loss: 0.6934 - acc: 0.5000 - val_loss: 0.6932 - val_acc: 0.5000\n",
            "Epoch 17/50\n",
            "689/689 [==============================] - 92s 133ms/step - loss: 0.6935 - acc: 0.5000 - val_loss: 0.6931 - val_acc: 0.5000\n",
            "Epoch 18/50\n",
            "689/689 [==============================] - 90s 130ms/step - loss: 0.6934 - acc: 0.5000 - val_loss: 0.6931 - val_acc: 0.5000\n",
            "Epoch 19/50\n",
            "689/689 [==============================] - 89s 129ms/step - loss: 0.6934 - acc: 0.5000 - val_loss: 0.6932 - val_acc: 0.5000\n",
            "Epoch 20/50\n",
            "689/689 [==============================] - 87s 127ms/step - loss: 0.6935 - acc: 0.5000 - val_loss: 0.6931 - val_acc: 0.5000\n",
            "Epoch 21/50\n",
            "689/689 [==============================] - 90s 131ms/step - loss: 0.6934 - acc: 0.5000 - val_loss: 0.6931 - val_acc: 0.5000\n",
            "Epoch 22/50\n",
            "689/689 [==============================] - 89s 129ms/step - loss: 0.6934 - acc: 0.5000 - val_loss: 0.6931 - val_acc: 0.5000\n",
            "Epoch 23/50\n",
            "689/689 [==============================] - 88s 128ms/step - loss: 0.6933 - acc: 0.5000 - val_loss: 0.6931 - val_acc: 0.5000\n",
            "Epoch 24/50\n",
            "689/689 [==============================] - 92s 133ms/step - loss: 0.6934 - acc: 0.5000 - val_loss: 0.6931 - val_acc: 0.5000\n",
            "Epoch 25/50\n",
            "689/689 [==============================] - 93s 135ms/step - loss: 0.6934 - acc: 0.5000 - val_loss: 0.6931 - val_acc: 0.5000\n",
            "Epoch 26/50\n",
            "689/689 [==============================] - 93s 135ms/step - loss: 0.6933 - acc: 0.5000 - val_loss: 0.6931 - val_acc: 0.5000\n",
            "Epoch 27/50\n",
            "689/689 [==============================] - 93s 134ms/step - loss: 0.6934 - acc: 0.5000 - val_loss: 0.6931 - val_acc: 0.5000\n",
            "Epoch 28/50\n",
            "689/689 [==============================] - 92s 133ms/step - loss: 0.6934 - acc: 0.5000 - val_loss: 0.6931 - val_acc: 0.5000\n",
            "Epoch 29/50\n",
            "689/689 [==============================] - 90s 131ms/step - loss: 0.6934 - acc: 0.5000 - val_loss: 0.6931 - val_acc: 0.5000\n",
            "Epoch 30/50\n",
            "689/689 [==============================] - 90s 130ms/step - loss: 0.6934 - acc: 0.5000 - val_loss: 0.6931 - val_acc: 0.5000\n",
            "Epoch 31/50\n",
            "689/689 [==============================] - 89s 130ms/step - loss: 0.6934 - acc: 0.5000 - val_loss: 0.6932 - val_acc: 0.5000\n",
            "Epoch 32/50\n",
            "689/689 [==============================] - 89s 130ms/step - loss: 0.6933 - acc: 0.5000 - val_loss: 0.6931 - val_acc: 0.5000\n",
            "Epoch 33/50\n",
            "689/689 [==============================] - 88s 128ms/step - loss: 0.6934 - acc: 0.5000 - val_loss: 0.6932 - val_acc: 0.5000\n",
            "Epoch 34/50\n",
            "689/689 [==============================] - 88s 128ms/step - loss: 0.6934 - acc: 0.5000 - val_loss: 0.6932 - val_acc: 0.5000\n",
            "Epoch 35/50\n",
            "689/689 [==============================] - 87s 126ms/step - loss: 0.6934 - acc: 0.5000 - val_loss: 0.6931 - val_acc: 0.5000\n",
            "Epoch 36/50\n",
            "689/689 [==============================] - 86s 124ms/step - loss: 0.6934 - acc: 0.5000 - val_loss: 0.6931 - val_acc: 0.5000\n",
            "Epoch 37/50\n",
            "689/689 [==============================] - 86s 124ms/step - loss: 0.6934 - acc: 0.5000 - val_loss: 0.6932 - val_acc: 0.5000\n",
            "Epoch 38/50\n",
            "689/689 [==============================] - 87s 126ms/step - loss: 0.6933 - acc: 0.5000 - val_loss: 0.6931 - val_acc: 0.5000\n",
            "Epoch 39/50\n",
            "689/689 [==============================] - 88s 127ms/step - loss: 0.6934 - acc: 0.5000 - val_loss: 0.6931 - val_acc: 0.5000\n",
            "Epoch 40/50\n",
            "689/689 [==============================] - 88s 127ms/step - loss: 0.6934 - acc: 0.5000 - val_loss: 0.6931 - val_acc: 0.5000\n",
            "Epoch 41/50\n",
            "689/689 [==============================] - 88s 128ms/step - loss: 0.6933 - acc: 0.5000 - val_loss: 0.6931 - val_acc: 0.5000\n",
            "Epoch 42/50\n",
            "689/689 [==============================] - 87s 126ms/step - loss: 0.6933 - acc: 0.5000 - val_loss: 0.6932 - val_acc: 0.5000\n",
            "Epoch 43/50\n",
            "689/689 [==============================] - 86s 125ms/step - loss: 0.6933 - acc: 0.5000 - val_loss: 0.6931 - val_acc: 0.5000\n",
            "Epoch 44/50\n",
            "689/689 [==============================] - 89s 129ms/step - loss: 0.6933 - acc: 0.5000 - val_loss: 0.6931 - val_acc: 0.5000\n",
            "Epoch 45/50\n",
            "689/689 [==============================] - 87s 126ms/step - loss: 0.6934 - acc: 0.5000 - val_loss: 0.6931 - val_acc: 0.5000\n",
            "Epoch 46/50\n",
            "689/689 [==============================] - 86s 125ms/step - loss: 0.6934 - acc: 0.5000 - val_loss: 0.6931 - val_acc: 0.5000\n",
            "Epoch 47/50\n",
            "689/689 [==============================] - 87s 126ms/step - loss: 0.6933 - acc: 0.5000 - val_loss: 0.6932 - val_acc: 0.5000\n",
            "Epoch 48/50\n",
            "689/689 [==============================] - 88s 127ms/step - loss: 0.6934 - acc: 0.5000 - val_loss: 0.6931 - val_acc: 0.5000\n",
            "Epoch 49/50\n",
            "689/689 [==============================] - 87s 126ms/step - loss: 0.6934 - acc: 0.5000 - val_loss: 0.6931 - val_acc: 0.5000\n",
            "Epoch 50/50\n",
            "689/689 [==============================] - 87s 126ms/step - loss: 0.6934 - acc: 0.5000 - val_loss: 0.6931 - val_acc: 0.5000\n"
          ]
        }
      ]
    },
    {
      "cell_type": "code",
      "metadata": {
        "id": "OEwPVCG1n91f",
        "colab": {
          "base_uri": "https://localhost:8080/"
        },
        "outputId": "4409a080-41e8-4895-dcb0-970d25f64430"
      },
      "source": [
        "model2 = Sequential()\n",
        "\n",
        "model2.add(InputLayer(input_shape=shape))\n",
        "model2.add(Conv2D(filters=64, kernel_size=3, strides=1, padding='same', activation='relu'))\n",
        "#model2.add(BatchNormalization())\n",
        "model2.add(AveragePooling2D(pool_size=2, padding='same'))\n",
        "model2.add(Conv2D(filters=128, kernel_size=3, strides=1, padding='same', activation='relu'))\n",
        "#model2.add(BatchNormalization())\n",
        "model2.add(AveragePooling2D(pool_size=2, padding='same'))\n",
        "model2.add(Conv2D(filters=256, kernel_size=3, strides=1, padding='same', activation='relu'))\n",
        "#model2.add(BatchNormalization())\n",
        "model2.add(AveragePooling2D(pool_size=2, padding='same'))\n",
        "model2.add(Dropout(0.2))\n",
        "model2.add(Flatten())\n",
        "\n",
        "# Fully Connected Layer\n",
        "model2.add(Dense(128, activation='relu'))\n",
        "model2.add(Dense(256, activation='relu'))\n",
        "#model2.add(Dropout(dropout))\n",
        "model2.add(Dense(1, activation='sigmoid'))\n",
        "\n",
        "# Print model summary\n",
        "model2.summary()"
      ],
      "execution_count": 18,
      "outputs": [
        {
          "output_type": "stream",
          "name": "stdout",
          "text": [
            "Model: \"sequential_1\"\n",
            "_________________________________________________________________\n",
            " Layer (type)                Output Shape              Param #   \n",
            "=================================================================\n",
            " conv2d_3 (Conv2D)           (None, 100, 100, 64)      1792      \n",
            "                                                                 \n",
            " average_pooling2d (AverageP  (None, 50, 50, 64)       0         \n",
            " ooling2D)                                                       \n",
            "                                                                 \n",
            " conv2d_4 (Conv2D)           (None, 50, 50, 128)       73856     \n",
            "                                                                 \n",
            " average_pooling2d_1 (Averag  (None, 25, 25, 128)      0         \n",
            " ePooling2D)                                                     \n",
            "                                                                 \n",
            " conv2d_5 (Conv2D)           (None, 25, 25, 256)       295168    \n",
            "                                                                 \n",
            " average_pooling2d_2 (Averag  (None, 13, 13, 256)      0         \n",
            " ePooling2D)                                                     \n",
            "                                                                 \n",
            " dropout_1 (Dropout)         (None, 13, 13, 256)       0         \n",
            "                                                                 \n",
            " flatten_1 (Flatten)         (None, 43264)             0         \n",
            "                                                                 \n",
            " dense_3 (Dense)             (None, 128)               5537920   \n",
            "                                                                 \n",
            " dense_4 (Dense)             (None, 256)               33024     \n",
            "                                                                 \n",
            " dense_5 (Dense)             (None, 1)                 257       \n",
            "                                                                 \n",
            "=================================================================\n",
            "Total params: 5,942,017\n",
            "Trainable params: 5,942,017\n",
            "Non-trainable params: 0\n",
            "_________________________________________________________________\n"
          ]
        }
      ]
    },
    {
      "cell_type": "code",
      "metadata": {
        "id": "GJOtt_hLoDOq"
      },
      "source": [
        "lr = 0.0015\n",
        "adamm = Adam(learning_rate=lr)"
      ],
      "execution_count": 19,
      "outputs": []
    },
    {
      "cell_type": "code",
      "metadata": {
        "id": "tsLK6LSBoHAN"
      },
      "source": [
        "model2.compile(optimizer=adamm, loss=los, metrics=['acc'])"
      ],
      "execution_count": 20,
      "outputs": []
    },
    {
      "cell_type": "code",
      "metadata": {
        "id": "TjdTMjR1oJz9",
        "colab": {
          "base_uri": "https://localhost:8080/"
        },
        "outputId": "f20129db-29b6-4aad-f96d-b21d42ec98ca"
      },
      "source": [
        "H2 = model2.fit(train_generator, \n",
        "                epochs= max_epoch, \n",
        "                validation_data=validation_generator)"
      ],
      "execution_count": 21,
      "outputs": [
        {
          "output_type": "stream",
          "name": "stdout",
          "text": [
            "Epoch 1/50\n",
            "689/689 [==============================] - 87s 125ms/step - loss: 0.8005 - acc: 0.5009 - val_loss: 0.6932 - val_acc: 0.5000\n",
            "Epoch 2/50\n",
            "689/689 [==============================] - 86s 125ms/step - loss: 0.6935 - acc: 0.5000 - val_loss: 0.6932 - val_acc: 0.5000\n",
            "Epoch 3/50\n",
            "689/689 [==============================] - 86s 125ms/step - loss: 0.6935 - acc: 0.4869 - val_loss: 0.6931 - val_acc: 0.5000\n",
            "Epoch 4/50\n",
            "689/689 [==============================] - 86s 124ms/step - loss: 0.6935 - acc: 0.4724 - val_loss: 0.6931 - val_acc: 0.5000\n",
            "Epoch 5/50\n",
            "689/689 [==============================] - 85s 123ms/step - loss: 0.6936 - acc: 0.4694 - val_loss: 0.6931 - val_acc: 0.5000\n",
            "Epoch 6/50\n",
            "689/689 [==============================] - 88s 127ms/step - loss: 0.6934 - acc: 0.4869 - val_loss: 0.6932 - val_acc: 0.5000\n",
            "Epoch 7/50\n",
            "689/689 [==============================] - 84s 121ms/step - loss: 0.6935 - acc: 0.4884 - val_loss: 0.6932 - val_acc: 0.5000\n",
            "Epoch 8/50\n",
            "689/689 [==============================] - 84s 122ms/step - loss: 0.6934 - acc: 0.4812 - val_loss: 0.6932 - val_acc: 0.5000\n",
            "Epoch 9/50\n",
            "689/689 [==============================] - 86s 125ms/step - loss: 0.6934 - acc: 0.4593 - val_loss: 0.6931 - val_acc: 0.5000\n",
            "Epoch 10/50\n",
            "689/689 [==============================] - 88s 128ms/step - loss: 0.6935 - acc: 0.4652 - val_loss: 0.6931 - val_acc: 0.5000\n",
            "Epoch 11/50\n",
            "689/689 [==============================] - 85s 124ms/step - loss: 0.6935 - acc: 0.4681 - val_loss: 0.6931 - val_acc: 0.5000\n",
            "Epoch 12/50\n",
            "689/689 [==============================] - 85s 124ms/step - loss: 0.6935 - acc: 0.5015 - val_loss: 0.6932 - val_acc: 0.5000\n",
            "Epoch 13/50\n",
            "689/689 [==============================] - 86s 124ms/step - loss: 0.6935 - acc: 0.4783 - val_loss: 0.6931 - val_acc: 0.5000\n",
            "Epoch 14/50\n",
            "689/689 [==============================] - 84s 122ms/step - loss: 0.6934 - acc: 0.4927 - val_loss: 0.6931 - val_acc: 0.5000\n",
            "Epoch 15/50\n",
            "689/689 [==============================] - 84s 122ms/step - loss: 0.6935 - acc: 0.4768 - val_loss: 0.6931 - val_acc: 0.5000\n",
            "Epoch 16/50\n",
            "689/689 [==============================] - 84s 122ms/step - loss: 0.6935 - acc: 0.4434 - val_loss: 0.6932 - val_acc: 0.5000\n",
            "Epoch 17/50\n",
            "689/689 [==============================] - 87s 127ms/step - loss: 0.6935 - acc: 0.4724 - val_loss: 0.6931 - val_acc: 0.5000\n",
            "Epoch 18/50\n",
            "689/689 [==============================] - 84s 122ms/step - loss: 0.6935 - acc: 0.4810 - val_loss: 0.6932 - val_acc: 0.5000\n",
            "Epoch 19/50\n",
            "689/689 [==============================] - 85s 123ms/step - loss: 0.6935 - acc: 0.4913 - val_loss: 0.6931 - val_acc: 0.5000\n",
            "Epoch 20/50\n",
            "689/689 [==============================] - 85s 123ms/step - loss: 0.6934 - acc: 0.4941 - val_loss: 0.6931 - val_acc: 0.5000\n",
            "Epoch 21/50\n",
            "689/689 [==============================] - 85s 123ms/step - loss: 0.6934 - acc: 0.4985 - val_loss: 0.6931 - val_acc: 0.5000\n",
            "Epoch 22/50\n",
            "689/689 [==============================] - 85s 124ms/step - loss: 0.6934 - acc: 0.4971 - val_loss: 0.6931 - val_acc: 0.5000\n",
            "Epoch 23/50\n",
            "689/689 [==============================] - 84s 122ms/step - loss: 0.6935 - acc: 0.4289 - val_loss: 0.6931 - val_acc: 0.5000\n",
            "Epoch 24/50\n",
            "689/689 [==============================] - 84s 122ms/step - loss: 0.6935 - acc: 0.4826 - val_loss: 0.6931 - val_acc: 0.5000\n",
            "Epoch 25/50\n",
            "689/689 [==============================] - 84s 121ms/step - loss: 0.6934 - acc: 0.5015 - val_loss: 0.6931 - val_acc: 0.5000\n",
            "Epoch 26/50\n",
            "689/689 [==============================] - 84s 121ms/step - loss: 0.6934 - acc: 0.4928 - val_loss: 0.6932 - val_acc: 0.5000\n",
            "Epoch 27/50\n",
            "689/689 [==============================] - 85s 123ms/step - loss: 0.6934 - acc: 0.5000 - val_loss: 0.6932 - val_acc: 0.5000\n",
            "Epoch 28/50\n",
            "689/689 [==============================] - 84s 122ms/step - loss: 0.6935 - acc: 0.4652 - val_loss: 0.6932 - val_acc: 0.5000\n",
            "Epoch 29/50\n",
            "689/689 [==============================] - 85s 124ms/step - loss: 0.6934 - acc: 0.5000 - val_loss: 0.6931 - val_acc: 0.5000\n",
            "Epoch 30/50\n",
            "689/689 [==============================] - 86s 125ms/step - loss: 0.6935 - acc: 0.4897 - val_loss: 0.6931 - val_acc: 0.5000\n",
            "Epoch 31/50\n",
            "689/689 [==============================] - 86s 124ms/step - loss: 0.6934 - acc: 0.4754 - val_loss: 0.6931 - val_acc: 0.5000\n",
            "Epoch 32/50\n",
            "689/689 [==============================] - 84s 122ms/step - loss: 0.6935 - acc: 0.4913 - val_loss: 0.6931 - val_acc: 0.5000\n",
            "Epoch 33/50\n",
            "689/689 [==============================] - 85s 123ms/step - loss: 0.6934 - acc: 0.4768 - val_loss: 0.6931 - val_acc: 0.5000\n",
            "Epoch 34/50\n",
            "689/689 [==============================] - 86s 125ms/step - loss: 0.6935 - acc: 0.4898 - val_loss: 0.6931 - val_acc: 0.5000\n",
            "Epoch 35/50\n",
            "689/689 [==============================] - 89s 128ms/step - loss: 0.6934 - acc: 0.4869 - val_loss: 0.6931 - val_acc: 0.5000\n",
            "Epoch 36/50\n",
            "689/689 [==============================] - 87s 126ms/step - loss: 0.6936 - acc: 0.4506 - val_loss: 0.6931 - val_acc: 0.5000\n",
            "Epoch 37/50\n",
            "689/689 [==============================] - 84s 122ms/step - loss: 0.6936 - acc: 0.4782 - val_loss: 0.6931 - val_acc: 0.5000\n",
            "Epoch 38/50\n",
            "689/689 [==============================] - 85s 123ms/step - loss: 0.6935 - acc: 0.4724 - val_loss: 0.6931 - val_acc: 0.5000\n",
            "Epoch 39/50\n",
            "689/689 [==============================] - 86s 124ms/step - loss: 0.6935 - acc: 0.4623 - val_loss: 0.6931 - val_acc: 0.5000\n",
            "Epoch 40/50\n",
            "689/689 [==============================] - 86s 125ms/step - loss: 0.6936 - acc: 0.4796 - val_loss: 0.6932 - val_acc: 0.5000\n",
            "Epoch 41/50\n",
            "689/689 [==============================] - 86s 125ms/step - loss: 0.6934 - acc: 0.4884 - val_loss: 0.6931 - val_acc: 0.5000\n",
            "Epoch 42/50\n",
            "689/689 [==============================] - 87s 126ms/step - loss: 0.6936 - acc: 0.4667 - val_loss: 0.6931 - val_acc: 0.5000\n",
            "Epoch 43/50\n",
            "689/689 [==============================] - 88s 128ms/step - loss: 0.6934 - acc: 0.4652 - val_loss: 0.6932 - val_acc: 0.5000\n",
            "Epoch 44/50\n",
            "689/689 [==============================] - 86s 125ms/step - loss: 0.6936 - acc: 0.4607 - val_loss: 0.6931 - val_acc: 0.5000\n",
            "Epoch 45/50\n",
            "689/689 [==============================] - 89s 129ms/step - loss: 0.6935 - acc: 0.4710 - val_loss: 0.6932 - val_acc: 0.5000\n",
            "Epoch 46/50\n",
            "689/689 [==============================] - 89s 130ms/step - loss: 0.6934 - acc: 0.4709 - val_loss: 0.6931 - val_acc: 0.5000\n",
            "Epoch 47/50\n",
            "689/689 [==============================] - 86s 126ms/step - loss: 0.6935 - acc: 0.4653 - val_loss: 0.6931 - val_acc: 0.5000\n",
            "Epoch 48/50\n",
            "689/689 [==============================] - 89s 129ms/step - loss: 0.6934 - acc: 0.5000 - val_loss: 0.6931 - val_acc: 0.5000\n",
            "Epoch 49/50\n",
            "689/689 [==============================] - 89s 129ms/step - loss: 0.6935 - acc: 0.4839 - val_loss: 0.6932 - val_acc: 0.5000\n",
            "Epoch 50/50\n",
            "689/689 [==============================] - 89s 129ms/step - loss: 0.6934 - acc: 0.4971 - val_loss: 0.6931 - val_acc: 0.5000\n"
          ]
        }
      ]
    },
    {
      "cell_type": "code",
      "metadata": {
        "id": "SR96nUtxohcZ",
        "colab": {
          "base_uri": "https://localhost:8080/",
          "height": 368
        },
        "outputId": "d7bd665a-b594-4d19-b2f4-b37d362f1e60"
      },
      "source": [
        "import matplotlib.pyplot as plt\n",
        "import numpy as np\n",
        "\n",
        "fig, (ax1, ax2) = plt.subplots(1, 2)\n",
        "fig.set_figheight(5)\n",
        "fig.set_figwidth(20)\n",
        "\n",
        "ax1.plot(np.arange(0, 50), H1.history[\"loss\"], label=\"loss_model_H1\")\n",
        "ax1.plot(np.arange(0, 50), H1.history[\"val_loss\"], label=\"val_loss_model_H1\")\n",
        "ax1.plot(np.arange(0, 50), H2.history[\"loss\"], label=\"loss_model_H2\")\n",
        "ax1.plot(np.arange(0, 50), H2.history[\"val_loss\"], label=\"val_loss_model_H2\")\n",
        "ax1.set_title(\"Loss Result Plot\")\n",
        "ax1.set_xlabel(\"Epoch #\")\n",
        "ax1.set_ylabel(\"Loss\")\n",
        "ax1.legend()\n",
        "\n",
        "ax2.plot(np.arange(0, 50), H1.history[\"acc\"], label=\"acc_model_H1\")\n",
        "ax2.plot(np.arange(0, 50), H1.history[\"val_acc\"], label=\"val_acc_model_H1\")\n",
        "ax2.plot(np.arange(0, 50), H2.history[\"acc\"], label=\"acc_model_H2\")\n",
        "ax2.plot(np.arange(0, 50), H2.history[\"val_acc\"], label=\"val_acc_model_H2\")\n",
        "ax2.set_title(\"Accuracy Result Plot\")\n",
        "ax2.set_xlabel(\"Epoch #\")\n",
        "ax2.set_ylabel(\"Acc\")\n",
        "ax2.legend()\n"
      ],
      "execution_count": 22,
      "outputs": [
        {
          "output_type": "execute_result",
          "data": {
            "text/plain": [
              "<matplotlib.legend.Legend at 0x7f16005f4210>"
            ]
          },
          "metadata": {},
          "execution_count": 22
        },
        {
          "output_type": "display_data",
          "data": {
            "image/png": "[encoded data removed]",
            "text/plain": [
              "<Figure size 1440x360 with 2 Axes>"
            ]
          },
          "metadata": {
            "needs_background": "light"
          }
        }
      ]
    },
    {
      "cell_type": "code",
      "metadata": {
        "id": "nNyGyBCaolW2",
        "colab": {
          "base_uri": "https://localhost:8080/"
        },
        "outputId": "d774816a-0e25-47b6-919e-15fd0adb51b4"
      },
      "source": [
        "from sklearn.metrics import classification_report, confusion_matrix\n",
        "\n",
        "ypred = model1.predict(test_generator)\n",
        "predictions = np.argmax(ypred, axis = 1)\n",
        "print(classification_report(test_generator.classes,predictions))"
      ],
      "execution_count": 23,
      "outputs": [
        {
          "output_type": "stream",
          "name": "stdout",
          "text": [
            "              precision    recall  f1-score   support\n",
            "\n",
            "           0       0.50      1.00      0.67       138\n",
            "           1       0.00      0.00      0.00       138\n",
            "\n",
            "    accuracy                           0.50       276\n",
            "   macro avg       0.25      0.50      0.33       276\n",
            "weighted avg       0.25      0.50      0.33       276\n",
            "\n"
          ]
        },
        {
          "output_type": "stream",
          "name": "stderr",
          "text": [
            "/usr/local/lib/python3.7/dist-packages/sklearn/metrics/_classification.py:1308: UndefinedMetricWarning: Precision and F-score are ill-defined and being set to 0.0 in labels with no predicted samples. Use `zero_division` parameter to control this behavior.\n",
            "  _warn_prf(average, modifier, msg_start, len(result))\n",
            "/usr/local/lib/python3.7/dist-packages/sklearn/metrics/_classification.py:1308: UndefinedMetricWarning: Precision and F-score are ill-defined and being set to 0.0 in labels with no predicted samples. Use `zero_division` parameter to control this behavior.\n",
            "  _warn_prf(average, modifier, msg_start, len(result))\n",
            "/usr/local/lib/python3.7/dist-packages/sklearn/metrics/_classification.py:1308: UndefinedMetricWarning: Precision and F-score are ill-defined and being set to 0.0 in labels with no predicted samples. Use `zero_division` parameter to control this behavior.\n",
            "  _warn_prf(average, modifier, msg_start, len(result))\n"
          ]
        }
      ]
    },
    {
      "cell_type": "code",
      "metadata": {
        "id": "I2Wg3dgIoufh",
        "colab": {
          "base_uri": "https://localhost:8080/",
          "height": 864
        },
        "outputId": "bae474ba-d004-4740-b1fe-ace7b0a7f2df"
      },
      "source": [
        "import seaborn as sns\n",
        "\n",
        "acc = model1.evaluate(test_generator, verbose=0)[1]\n",
        "print(\"Accuracy: {:.2f}%\".format(acc * 100))\n",
        "\n",
        "predictions = np.argmax(model1.predict(test_generator), axis=1)\n",
        "\n",
        "cm = confusion_matrix(test_generator.labels, predictions, labels=[0, 1,])\n",
        "clr = classification_report(test_generator.labels, predictions, labels=[0, 1], target_names=[\"Parasitized\", \"Uninfected\"])\n",
        "\n",
        "plt.figure(figsize=(8, 8))\n",
        "sns.heatmap(cm, annot=True, fmt='g', vmin=0, cmap='Greens', cbar=False)\n",
        "plt.xticks(ticks=[0.5, 1.5], labels=[\"Parasitized\", \"Uninfected\"])\n",
        "plt.yticks(ticks=[0.5, 1.5], labels=[\"Parasitized\", \"Uninfected\"])\n",
        "plt.xlabel(\"Predicted\")\n",
        "plt.ylabel(\"Actual\")\n",
        "plt.title(\"Confusion Matrix\")\n",
        "plt.show()\n",
        "\n",
        "print(\"Classification Report:\\n----------------------\\n\", clr)"
      ],
      "execution_count": 24,
      "outputs": [
        {
          "output_type": "stream",
          "name": "stdout",
          "text": [
            "Accuracy: 33.33%\n"
          ]
        },
        {
          "output_type": "stream",
          "name": "stderr",
          "text": [
            "/usr/local/lib/python3.7/dist-packages/sklearn/metrics/_classification.py:1308: UndefinedMetricWarning: Precision and F-score are ill-defined and being set to 0.0 in labels with no predicted samples. Use `zero_division` parameter to control this behavior.\n",
            "  _warn_prf(average, modifier, msg_start, len(result))\n",
            "/usr/local/lib/python3.7/dist-packages/sklearn/metrics/_classification.py:1308: UndefinedMetricWarning: Precision and F-score are ill-defined and being set to 0.0 in labels with no predicted samples. Use `zero_division` parameter to control this behavior.\n",
            "  _warn_prf(average, modifier, msg_start, len(result))\n",
            "/usr/local/lib/python3.7/dist-packages/sklearn/metrics/_classification.py:1308: UndefinedMetricWarning: Precision and F-score are ill-defined and being set to 0.0 in labels with no predicted samples. Use `zero_division` parameter to control this behavior.\n",
            "  _warn_prf(average, modifier, msg_start, len(result))\n"
          ]
        },
        {
          "output_type": "display_data",
          "data": {
            "image/png": "[encoded data removed]",
            "text/plain": [
              "<Figure size 576x576 with 1 Axes>"
            ]
          },
          "metadata": {
            "needs_background": "light"
          }
        },
        {
          "output_type": "stream",
          "name": "stdout",
          "text": [
            "Classification Report:\n",
            "----------------------\n",
            "               precision    recall  f1-score   support\n",
            "\n",
            " Parasitized       0.50      1.00      0.67       138\n",
            "  Uninfected       0.00      0.00      0.00       138\n",
            "\n",
            "    accuracy                           0.50       276\n",
            "   macro avg       0.25      0.50      0.33       276\n",
            "weighted avg       0.25      0.50      0.33       276\n",
            "\n"
          ]
        }
      ]
    },
    {
      "cell_type": "code",
      "metadata": {
        "id": "9n05HdgUowvL",
        "colab": {
          "base_uri": "https://localhost:8080/"
        },
        "outputId": "e29ad5ec-8d80-4f3d-e879-90e88e992e72"
      },
      "source": [
        "from sklearn.metrics import classification_report, confusion_matrix\n",
        "\n",
        "ypred = model2.predict(test_generator)\n",
        "predictions = np.argmax(ypred, axis = 1)\n",
        "print(classification_report(test_generator.classes,predictions))"
      ],
      "execution_count": 25,
      "outputs": [
        {
          "output_type": "stream",
          "name": "stdout",
          "text": [
            "              precision    recall  f1-score   support\n",
            "\n",
            "           0       0.50      1.00      0.67       138\n",
            "           1       0.00      0.00      0.00       138\n",
            "\n",
            "    accuracy                           0.50       276\n",
            "   macro avg       0.25      0.50      0.33       276\n",
            "weighted avg       0.25      0.50      0.33       276\n",
            "\n"
          ]
        },
        {
          "output_type": "stream",
          "name": "stderr",
          "text": [
            "/usr/local/lib/python3.7/dist-packages/sklearn/metrics/_classification.py:1308: UndefinedMetricWarning: Precision and F-score are ill-defined and being set to 0.0 in labels with no predicted samples. Use `zero_division` parameter to control this behavior.\n",
            "  _warn_prf(average, modifier, msg_start, len(result))\n",
            "/usr/local/lib/python3.7/dist-packages/sklearn/metrics/_classification.py:1308: UndefinedMetricWarning: Precision and F-score are ill-defined and being set to 0.0 in labels with no predicted samples. Use `zero_division` parameter to control this behavior.\n",
            "  _warn_prf(average, modifier, msg_start, len(result))\n",
            "/usr/local/lib/python3.7/dist-packages/sklearn/metrics/_classification.py:1308: UndefinedMetricWarning: Precision and F-score are ill-defined and being set to 0.0 in labels with no predicted samples. Use `zero_division` parameter to control this behavior.\n",
            "  _warn_prf(average, modifier, msg_start, len(result))\n"
          ]
        }
      ]
    },
    {
      "cell_type": "code",
      "metadata": {
        "id": "uccydeMeo0oJ",
        "colab": {
          "base_uri": "https://localhost:8080/",
          "height": 864
        },
        "outputId": "16b49914-097f-4768-bbf8-44fb345049d3"
      },
      "source": [
        "import seaborn as sns\n",
        "\n",
        "acc = model2.evaluate(test_generator, verbose=0)[1]\n",
        "print(\"Accuracy: {:.2f}%\".format(acc * 100))\n",
        "\n",
        "predictions = np.argmax(model2.predict(test_generator), axis=1)\n",
        "\n",
        "cm = confusion_matrix(test_generator.labels, predictions, labels=[0, 1])\n",
        "clr = classification_report(test_generator.labels, predictions, labels=[0, 1], target_names=[\"Parasitized\", \"Uninfected\"])\n",
        "\n",
        "plt.figure(figsize=(8, 8))\n",
        "sns.heatmap(cm, annot=True, fmt='g', vmin=0, cmap='Greens', cbar=False)\n",
        "plt.xticks(ticks=[0.5, 1.5], labels=[\"Parasitized\", \"Uninfected\"])\n",
        "plt.yticks(ticks=[0.5, 1.5], labels=[\"Parasitized\", \"Uninfected\"])\n",
        "plt.xlabel(\"Predicted\")\n",
        "plt.ylabel(\"Actual\")\n",
        "plt.title(\"Confusion Matrix\")\n",
        "plt.show()\n",
        "\n",
        "print(\"Classification Report:\\n----------------------\\n\", clr)"
      ],
      "execution_count": 26,
      "outputs": [
        {
          "output_type": "stream",
          "name": "stdout",
          "text": [
            "Accuracy: 66.67%\n"
          ]
        },
        {
          "output_type": "stream",
          "name": "stderr",
          "text": [
            "/usr/local/lib/python3.7/dist-packages/sklearn/metrics/_classification.py:1308: UndefinedMetricWarning: Precision and F-score are ill-defined and being set to 0.0 in labels with no predicted samples. Use `zero_division` parameter to control this behavior.\n",
            "  _warn_prf(average, modifier, msg_start, len(result))\n",
            "/usr/local/lib/python3.7/dist-packages/sklearn/metrics/_classification.py:1308: UndefinedMetricWarning: Precision and F-score are ill-defined and being set to 0.0 in labels with no predicted samples. Use `zero_division` parameter to control this behavior.\n",
            "  _warn_prf(average, modifier, msg_start, len(result))\n",
            "/usr/local/lib/python3.7/dist-packages/sklearn/metrics/_classification.py:1308: UndefinedMetricWarning: Precision and F-score are ill-defined and being set to 0.0 in labels with no predicted samples. Use `zero_division` parameter to control this behavior.\n",
            "  _warn_prf(average, modifier, msg_start, len(result))\n"
          ]
        },
        {
          "output_type": "display_data",
          "data": {
            "image/png": "[encoded data removed]",
            "text/plain": [
              "<Figure size 576x576 with 1 Axes>"
            ]
          },
          "metadata": {
            "needs_background": "light"
          }
        },
        {
          "output_type": "stream",
          "name": "stdout",
          "text": [
            "Classification Report:\n",
            "----------------------\n",
            "               precision    recall  f1-score   support\n",
            "\n",
            " Parasitized       0.50      1.00      0.67       138\n",
            "  Uninfected       0.00      0.00      0.00       138\n",
            "\n",
            "    accuracy                           0.50       276\n",
            "   macro avg       0.25      0.50      0.33       276\n",
            "weighted avg       0.25      0.50      0.33       276\n",
            "\n"
          ]
        }
      ]
    },
    {
      "cell_type": "markdown",
      "metadata": {
        "id": "M1OyrUJ6oQKE"
      },
      "source": [
        "### **SOAL 2 :**\n",
        "\n",
        "---\n",
        "Untuk mendapatkan penilaian pada soal ke 2 ini anda **wajib** mengerjakan soal nomer 1 terlebih dahulu. Tunjukkan kepada asisten bahwa anda telah menyelesaikan seluruh soal wajib diatas dan jelaskan dengan sebaik mungkin kepada asisten.\n",
        "\n",
        "\n",
        "**Poin penilaian**\n",
        "* Dapat menunjukkan dan menjelaskan hasil evaluasi masing-masing model yang digunakan.\n",
        "* Dapat memvisualisasikan hasil evaluasi model dan menjelaskannya kepada asisten. \n",
        "* Menggunakan maptplotlib atau seaborn untuk visualisasi loss dan accuracy\n",
        "* Menampilkan hasil evaluasi berupa nilai presisi, akurasi, recall, f1 score dan confusion matrix.\n",
        "* Menggunakan tensorboard untuk visualisasi hasil evaluasi model menggunakan hyperparameter tuning.\n",
        "* Menggunakan Hparam untuk tuning model.\n",
        "* Hasil accuracy model terbaik >= 80% \n",
        "* Hasil loss model terbaik < 5%"
      ]
    },
    {
      "cell_type": "code",
      "metadata": {
        "id": "iQl-nGr4K90s"
      },
      "source": [
        "# Tulis Program Anda Disini!"
      ],
      "execution_count": null,
      "outputs": []
    },
    {
      "cell_type": "markdown",
      "metadata": {
        "id": "-zzfYOy8U4TX"
      },
      "source": [
        "## Kegiatan 2 **(berkelompok)**\n",
        "30 poin"
      ]
    },
    {
      "cell_type": "markdown",
      "metadata": {
        "id": "fBIbZKBZKKHN"
      },
      "source": [
        "**Ketentuan Wajib**\n",
        "* Tulis dokumentasi tugas kelompok anda dalam file README.md\n",
        "* Cek daftar dataset seluruh praktikan [disini](https://docs.google.com/spreadsheets/d/1qyu5AVDhPhegpRTbNaDoq5qXX4_CX09Q7tYyD-fkF_c/edit?usp=sharing)\n",
        "* Seluruh data dan progress pengerjaan tugas kelompok harus berada dalam github repository sebelum praktikum dimulai\n",
        "* Tidak diperbolehkan berganti anggota kelompok selama satu semester ini\n",
        "* Tidak diperbolehkan berganti repository selama mengerjakan tugas kelompok ini\n",
        "* **Tidak diperbolehkan berganti dataset atau jurnal rujukan**\n",
        "* Pastikan anda menggunakan akun github pribadi untuk melakukan commit dan push\n",
        "\n",
        "**Penilaian**\n",
        "* Keaktifan dalam tim\n",
        "* Kontribusi dalam proyek dan tim\n",
        "* Penerapan prinsip kerja Agile (sprint backlog dan report terdokumentasikan dengan baik)\n",
        "* Progress pengerjaan tugas kelompok\n",
        "* Problem solving masing - masing anggota terhadap kendala yang dialami\n",
        "* Pemahaman masing - masing anggota tim terhadap tugas yang dikerjakan\n",
        "* Pendokumentasian proyek \"clear and clean documentation\"\n",
        "\n",
        "**Materi pendukung**\n",
        "* [Project documentation](https://realpython.com/documenting-python-code)\n",
        "* [Github readme](https://docs.github.com/en/github/writing-on-github/getting-started-with-writing-and-formatting-on-github/basic-writing-and-formatting-syntax)\n",
        "* [Sprint backlog](https://www.lucidchart.com/blog/how-to-develop-a-product-backlog-in-agile)"
      ]
    },
    {
      "cell_type": "markdown",
      "metadata": {
        "id": "u8-XbSmMp0NT"
      },
      "source": [
        "**Tugas**\n",
        "\n",
        "Melanjutkan tugas kelompok di modul 1 sampai 3 sekarang kerjakan beberapa poin berikut untuk didemokan kepada asisten masing-masing.\n",
        "\n",
        "*   Melakukan proses preprocessing dataset dengan ketentuan:\n",
        " * augmentasi data menggunakan ImageDataGenerator\n",
        " * balancing dataset menggunakan teknik oversampling / downsampling\n",
        " * splitting dataset menjadi (75% train, 14% validation, 1% test)\n",
        "*   Melakukan training beberapa skema model menggunakan model CNN sederhana buatan sendiri **(minimal 2 model)** *tidak diperbolehkan menggunakan transfer learning* \n",
        " * Menerapkan proses Convolution\n",
        " * Menerapkan proses Pooling\n",
        " * Menerapkan Dropout\n",
        " * Menerpakan BatchNormalization\n",
        " * Menerapkan learning rate scheduller\n",
        " * Menggunakan hyperparameter tuning\n",
        " * Minimal 100 epoch per model\n",
        "* Menyimpan model yang telah di training kedalam file `.json` dan weight kedalam file `.h5` [Lihat disini](https://www.tensorflow.org/guide/keras/save_and_serialize)\n",
        "*  Mencatat hasil perkembangan tugas kelompok dalam file `sprint_project.xlsx` tandai masing-masing task dengan status **Done** *untuk task yang telah selesai dikerjakan*, **On Going** *untuk task yang dalam proses pengerjaan*, **Waiting** *untuk task yang belum atau akan dikerjakan*\n",
        "* Pastikan anda menulis tanggal mulai dan tanggal selesai masing-masing task dengan benar\n",
        "* Pastikan anda menulis penanggung jawab masing-masing task (Penanggung jawab bertugas menyelesaikan dan menuntaskan masing-masing task yang diberikan)\n",
        "* `commit` dan `push` seluruh perkerjaan yang anda lakukan kedalam branch pribadi dalam repository tugas kelompok yang telah anda buat sebelumnya.\n",
        "* Presentasikan kepada asisten tentang apa yang anda lakukakan selama mengerjakan tugas kelompok ini. Ceritakan tentang tugas masing-masing anggota,  kendala dalam mengerjakan tugas sampai solusi yang anda lakukan saat mengerjakan tugas kelompok ini.\n",
        "\n"
      ]
    }
  ]
}